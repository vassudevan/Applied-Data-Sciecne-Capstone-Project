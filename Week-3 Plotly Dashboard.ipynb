{
    "cells": [
        {
            "cell_type": "code",
            "execution_count": null,
            "metadata": {},
            "outputs": [],
            "source": "# Import required libraries\nimport pandas as pd\nimport dash\nimport dash_html_components as html\nimport dash_core_components as dcc\nfrom dash.dependencies import Input, Output, State\nimport plotly.express as px\nfrom jupyter_dash import JupyterDash\nimport plotly.graph_objects as go\nfrom dash import no_update"
        },
        {
            "cell_type": "code",
            "execution_count": null,
            "metadata": {},
            "outputs": [],
            "source": "# Create a dash application\napp = JupyterDash(__name__)\nJupyterDash.infer_jupyter_proxy_config()\n\napp.config.suppress_callback_exceptions = True\n\n# Read the airline data into pandas dataframe\nspacex_df = pd.read_csv(\"https://cf-courses-data.s3.us.cloud-object-storage.appdomain.cloud/IBM-DS0321EN-SkillsNetwork/datasets/spacex_launch_dash.csv\")\nmax_payload = spacex_df['Payload Mass (kg)'].max()\nmin_payload = spacex_df['Payload Mass (kg)'].min()\n\ndf_launchsite = []\ndf_launchsite = list( spacex_df['Launch Site'].unique() )\ndf_launchsite.append('ALL SITE')"
        },
        {
            "cell_type": "code",
            "execution_count": null,
            "metadata": {},
            "outputs": [],
            "source": "app.layout = html.Div(children=[html.H1('SpaceX Launch Records Dashboard',\n                                        style={'textAlign': 'center', 'color': '#503D36',\n                                               'font-size': 40}),\n                                \n                               html.Div([\n                                    html.Div(\n                                                [\n                                                html.H3('Choose Launch Site:', style={'margin-right': '2em'})\n                                                ]\n                                            ),\n                                    dcc.Dropdown(id='input-launchsite', \n                                                 options=[\n                                                     {'label': i, 'value': i} for i in df_launchsite],\n                                                 placeholder=\"Select a Launch Site\",\n                                                 value='ALL SITE',\n                                                 searchable=True,\n                                                 style={'width':'80%', 'padding':'3px', 'font-size': '20px', 'text-align-last' : 'center'}),\n                                        ], style={'display': 'flex'}),  \n                                html.Br(),\n\n                                \n                                html.Div(dcc.Graph(id='success-pie-chart')),\n                                html.Br(),\n\n                                html.P(\"Payload range (Kg):\"),                                \n                                html.Div( dcc.RangeSlider(id='slider',\n                                                min=min_payload,\n                                                max=max_payload,\n                                                step=100,\n                                                value=[min_payload,max_payload],\n                                                )\n                                        ),\n                                html.Div(dcc.Graph(id='success-payload-scatter-chart')),\n                                ])\n\n@app.callback(\n    [   Output(component_id=\"success-pie-chart\", component_property=\"figure\"),\n        Output(component_id=\"success-payload-scatter-chart\", component_property=\"figure\")\n    ],     \n    [   Input(component_id=\"input-launchsite\", component_property=\"value\"),\n        Input(component_id=\"slider\", component_property=\"value\")\n    ]\n)\ndef generate_chart(selected_site,selected_slider):    \n    payload_min =selected_slider[0]\n    payload_max =selected_slider[1]    \n    \n    if selected_site == \"ALL SITE\":\n        fig = px.pie(spacex_df, values='class', names='Launch Site', title='Total Success Launch by Site')\n        df1 = spacex_df[ spacex_df['Payload Mass (kg)'].between(payload_min,payload_max)  ]\n    else:\n        df = spacex_df[ spacex_df['Launch Site'].str.contains(selected_site) ]\n        fig = px.pie(df, names='class', title='Total Success/Failure of Selected Site')\n        df1 = spacex_df[ spacex_df['Payload Mass (kg)'].between(payload_min,payload_max) & spacex_df['Launch Site'].str.contains(selected_site)  ]\n    \n    fig1 = px.scatter(df1, x=\"Payload Mass (kg)\", y=\"class\")    \n    \n    return [fig,fig1]\n"
        },
        {
            "cell_type": "code",
            "execution_count": null,
            "metadata": {},
            "outputs": [],
            "source": "# Run the app\nif __name__ == '__main__':\n    # REVIEW8: Adding dev_tools_ui=False, dev_tools_props_check=False can prevent error appearing before calling callback function\n    app.run_server(mode=\"inline\", host=\"localhost\", debug=False, dev_tools_ui=False, dev_tools_props_check=False)"
        }
    ],
    "metadata": {
        "kernelspec": {
            "display_name": "Python 3.8",
            "language": "python",
            "name": "python3"
        },
        "language_info": {
            "codemirror_mode": {
                "name": "ipython",
                "version": 3
            },
            "file_extension": ".py",
            "mimetype": "text/x-python",
            "name": "python",
            "nbconvert_exporter": "python",
            "pygments_lexer": "ipython3",
            "version": "3.8.11"
        }
    },
    "nbformat": 4,
    "nbformat_minor": 1
}